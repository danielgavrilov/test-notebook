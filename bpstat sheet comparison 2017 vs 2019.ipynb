{
 "cells": [
  {
   "cell_type": "code",
   "execution_count": 3,
   "metadata": {},
   "outputs": [],
   "source": [
    "import pandas as pd\n",
    "import xlrd"
   ]
  },
  {
   "cell_type": "code",
   "execution_count": 8,
   "metadata": {},
   "outputs": [],
   "source": [
    "source_file = './data/bp-stats-review-2019-all-data.xlsx'"
   ]
  },
  {
   "cell_type": "code",
   "execution_count": 9,
   "metadata": {},
   "outputs": [],
   "source": [
    "sheets = xlrd.open_workbook(source_file, on_demand=True).sheet_names()"
   ]
  },
  {
   "cell_type": "code",
   "execution_count": 16,
   "metadata": {},
   "outputs": [],
   "source": [
    "sheets.sort()"
   ]
  },
  {
   "cell_type": "code",
   "execution_count": 17,
   "metadata": {},
   "outputs": [
    {
     "data": {
      "text/plain": [
       "['Approximate conversion factors',\n",
       " 'Biofuels Production - Kboed',\n",
       " 'Biofuels Production - Ktoe',\n",
       " 'Carbon Dioxide Emissions',\n",
       " 'Coal - Inter area movts',\n",
       " 'Coal - Prices',\n",
       " 'Coal - Reserves',\n",
       " 'Coal - Trade movements',\n",
       " 'Coal Consumption - Mtoe',\n",
       " 'Coal Production - Mtoe',\n",
       " 'Coal Production - Tonnes',\n",
       " 'Cobalt Production-Reserves',\n",
       " 'Cobalt and Lithium - Prices',\n",
       " 'Contents',\n",
       " 'Definitions',\n",
       " 'Elec Gen by fuel',\n",
       " 'Elec Gen from Coal',\n",
       " 'Elec Gen from Gas',\n",
       " 'Elec Gen from Oil',\n",
       " 'Elec Gen from Other',\n",
       " 'Electricity Generation ',\n",
       " 'Gas - Inter-regional trade',\n",
       " 'Gas - LNG exports',\n",
       " 'Gas - LNG imports',\n",
       " 'Gas - Prices ',\n",
       " 'Gas - Proved reserves',\n",
       " 'Gas - Proved reserves history ',\n",
       " 'Gas - Trade movts - pipeline',\n",
       " 'Gas - Trade movts LNG',\n",
       " 'Gas Consumption - Bcf',\n",
       " 'Gas Consumption - Bcm',\n",
       " 'Gas Consumption - Mtoe',\n",
       " 'Gas Production - Bcf',\n",
       " 'Gas Production - Bcm',\n",
       " 'Gas Production - Mtoe',\n",
       " 'Geo Biomass Other - Mtoe',\n",
       " 'Geo Biomass Other - TWh',\n",
       " 'Geothermal Capacity',\n",
       " 'Graphite Production-Reserves',\n",
       " 'Hydro Consumption - Mtoe',\n",
       " 'Hydro Generation - TWh',\n",
       " 'Lithium Production-Reserves',\n",
       " 'Nuclear Consumption - Mtoe',\n",
       " 'Nuclear Generation - TWh',\n",
       " 'Oil - Crude prices since 1861',\n",
       " 'Oil - Inter-area movements ',\n",
       " 'Oil - Proved reserves',\n",
       " 'Oil - Proved reserves history',\n",
       " 'Oil - Refinery throughput',\n",
       " 'Oil - Refining capacity',\n",
       " 'Oil - Regional Consumption ',\n",
       " 'Oil - Regional refining margins',\n",
       " 'Oil - Spot crude prices',\n",
       " 'Oil - Trade 2017 - 2018',\n",
       " 'Oil - Trade movements',\n",
       " 'Oil Consumption - Barrels',\n",
       " 'Oil Consumption - Mtoe',\n",
       " 'Oil Consumption - Tonnes',\n",
       " 'Oil Production - Barrels',\n",
       " 'Oil Production - Crude Conds',\n",
       " 'Oil Production - NGLs',\n",
       " 'Oil Production - Tonnes',\n",
       " 'Primary Energy - Cons by fuel',\n",
       " 'Primary Energy - Cons capita',\n",
       " 'Primary Energy Consumption',\n",
       " 'Rare Earth Production-Reserves',\n",
       " 'Renewables - Mtoe',\n",
       " 'Renewables - TWh',\n",
       " 'Renewables Generation by source',\n",
       " 'Solar Capacity',\n",
       " 'Solar Consumption - Mtoe',\n",
       " 'Solar Generation - TWh',\n",
       " 'Wind Capacity',\n",
       " 'Wind Consumption - Mtoe',\n",
       " 'Wind Generation - TWh ']"
      ]
     },
     "execution_count": 17,
     "metadata": {},
     "output_type": "execute_result"
    }
   ],
   "source": [
    "sheets"
   ]
  },
  {
   "cell_type": "code",
   "execution_count": 12,
   "metadata": {},
   "outputs": [],
   "source": [
    "worksheets_types = {\n",
    "    'Primary Energy Consumption': 1,\n",
    "    'Oil - Proved reserves history': 1,\n",
    "    'Oil Production - Barrels': 1,\n",
    "    'Oil Production - Tonnes': 1,\n",
    "    'Oil Consumption -  Barrels': 1,\n",
    "    'Oil Consumption - Tonnes': 1,\n",
    "    'Oil - Refinery throughput': 1,\n",
    "    'Oil - Refinery capacities': 1,\n",
    "    'Gas - Proved reserves history ': 1,\n",
    "    'Gas Production - Bcm': 1,\n",
    "    'Gas Production - Bcf': 1,\n",
    "    'Gas Production - Mtoe': 1,\n",
    "    'Gas Consumption - Bcm': 1,\n",
    "    'Gas Consumption - Bcf': 1,\n",
    "    'Gas Consumption - Mtoe': 1,\n",
    "    'Coal Production - Tonnes': 1,\n",
    "    'Coal Production - Mtoe': 1,\n",
    "    'Coal Consumption -  Mtoe': 1,\n",
    "    'Nuclear Consumption - TWh': 1,\n",
    "    'Nuclear Consumption - Mtoe': 1,\n",
    "    'Hydro Consumption - TWh': 1,\n",
    "    'Hydro Consumption - Mtoe': 1,\n",
    "    'Other renewables -TWh': 1,\n",
    "    'Other renewables - Mtoe': 1,\n",
    "    'Solar Consumption - TWh': 1,\n",
    "    'Solar Consumption - Mtoe': 1,\n",
    "    'Wind Consumption - TWh ': 1,\n",
    "    'Wind Consumption - Mtoe': 1,\n",
    "    'Geo Biomass Other - TWh': 1,\n",
    "    'Geo Biomass Other - Mtoe': 1,\n",
    "    'Biofuels Production - Kboed': 1,\n",
    "    'Biofuels Production - Ktoe': 1,\n",
    "    'Electricity Generation ': 1,\n",
    "    'Carbon Dioxide Emissions': 1,\n",
    "    'Geothermal capacity': 1,\n",
    "    'Solar capacity': 1,\n",
    "    'Wind capacity': 1,\n",
    "    'Primary Energy - Cons by fuel': 2,\n",
    "    'Oil - Proved reserves': 3,\n",
    "    'Gas - Proved reserves': 3,\n",
    "    'Coal - Reserves': 3,\n",
    "    'Oil - Regional Consumption ': 4,\n",
    "    'Oil - Spot crude prices': 5,\n",
    "    'Gas - Prices ': 5,\n",
    "    'Coal - Prices': 5,\n",
    "    'Oil - Crude prices since 1861': 6,\n",
    "    'Oil - Trade movements': 7,\n",
    "    'Oil - Trade 2015 - 2016': 8,\n",
    "    'Gas - Trade 2015-2016': 8\n",
    "}\n"
   ]
  },
  {
   "cell_type": "code",
   "execution_count": 24,
   "metadata": {},
   "outputs": [],
   "source": [
    "previous_sheets = list(worksheets_types.keys())"
   ]
  },
  {
   "cell_type": "code",
   "execution_count": 25,
   "metadata": {},
   "outputs": [],
   "source": [
    "previous_sheets.sort()"
   ]
  },
  {
   "cell_type": "code",
   "execution_count": 26,
   "metadata": {},
   "outputs": [
    {
     "data": {
      "text/plain": [
       "['Biofuels Production - Kboed',\n",
       " 'Biofuels Production - Ktoe',\n",
       " 'Carbon Dioxide Emissions',\n",
       " 'Coal - Prices',\n",
       " 'Coal - Reserves',\n",
       " 'Coal Consumption -  Mtoe',\n",
       " 'Coal Production - Mtoe',\n",
       " 'Coal Production - Tonnes',\n",
       " 'Electricity Generation ',\n",
       " 'Gas - Prices ',\n",
       " 'Gas - Proved reserves',\n",
       " 'Gas - Proved reserves history ',\n",
       " 'Gas - Trade 2015-2016',\n",
       " 'Gas Consumption - Bcf',\n",
       " 'Gas Consumption - Bcm',\n",
       " 'Gas Consumption - Mtoe',\n",
       " 'Gas Production - Bcf',\n",
       " 'Gas Production - Bcm',\n",
       " 'Gas Production - Mtoe',\n",
       " 'Geo Biomass Other - Mtoe',\n",
       " 'Geo Biomass Other - TWh',\n",
       " 'Geothermal capacity',\n",
       " 'Hydro Consumption - Mtoe',\n",
       " 'Hydro Consumption - TWh',\n",
       " 'Nuclear Consumption - Mtoe',\n",
       " 'Nuclear Consumption - TWh',\n",
       " 'Oil - Crude prices since 1861',\n",
       " 'Oil - Proved reserves',\n",
       " 'Oil - Proved reserves history',\n",
       " 'Oil - Refinery capacities',\n",
       " 'Oil - Refinery throughput',\n",
       " 'Oil - Regional Consumption ',\n",
       " 'Oil - Spot crude prices',\n",
       " 'Oil - Trade 2015 - 2016',\n",
       " 'Oil - Trade movements',\n",
       " 'Oil Consumption -  Barrels',\n",
       " 'Oil Consumption - Tonnes',\n",
       " 'Oil Production - Barrels',\n",
       " 'Oil Production - Tonnes',\n",
       " 'Other renewables - Mtoe',\n",
       " 'Other renewables -TWh',\n",
       " 'Primary Energy - Cons by fuel',\n",
       " 'Primary Energy Consumption',\n",
       " 'Solar Consumption - Mtoe',\n",
       " 'Solar Consumption - TWh',\n",
       " 'Solar capacity',\n",
       " 'Wind Consumption - Mtoe',\n",
       " 'Wind Consumption - TWh ',\n",
       " 'Wind capacity']"
      ]
     },
     "execution_count": 26,
     "metadata": {},
     "output_type": "execute_result"
    }
   ],
   "source": [
    "previous_sheets"
   ]
  },
  {
   "cell_type": "code",
   "execution_count": null,
   "metadata": {},
   "outputs": [],
   "source": []
  }
 ],
 "metadata": {
  "kernelspec": {
   "display_name": "Python 3",
   "language": "python",
   "name": "python3"
  },
  "language_info": {
   "codemirror_mode": {
    "name": "ipython",
    "version": 3
   },
   "file_extension": ".py",
   "mimetype": "text/x-python",
   "name": "python",
   "nbconvert_exporter": "python",
   "pygments_lexer": "ipython3",
   "version": "3.7.3"
  }
 },
 "nbformat": 4,
 "nbformat_minor": 2
}
